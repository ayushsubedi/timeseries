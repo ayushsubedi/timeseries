{
 "cells": [
  {
   "cell_type": "code",
   "execution_count": 1,
   "metadata": {
    "collapsed": true
   },
   "outputs": [],
   "source": [
    "import pandas as pd\n",
    "import matplotlib.pyplot as plt\n",
    "import numpy as np\n",
    "%matplotlib inline"
   ]
  },
  {
   "cell_type": "code",
   "execution_count": 2,
   "metadata": {
    "collapsed": true
   },
   "outputs": [],
   "source": [
    "df = pd.read_csv('data/bitcoin.csv')"
   ]
  },
  {
   "cell_type": "code",
   "execution_count": 3,
   "metadata": {},
   "outputs": [
    {
     "data": {
      "text/plain": [
       "(2016354, 8)"
      ]
     },
     "execution_count": 3,
     "metadata": {},
     "output_type": "execute_result"
    }
   ],
   "source": [
    "df.shape"
   ]
  },
  {
   "cell_type": "code",
   "execution_count": 4,
   "metadata": {},
   "outputs": [
    {
     "data": {
      "text/html": [
       "<div>\n",
       "<style>\n",
       "    .dataframe thead tr:only-child th {\n",
       "        text-align: right;\n",
       "    }\n",
       "\n",
       "    .dataframe thead th {\n",
       "        text-align: left;\n",
       "    }\n",
       "\n",
       "    .dataframe tbody tr th {\n",
       "        vertical-align: top;\n",
       "    }\n",
       "</style>\n",
       "<table border=\"1\" class=\"dataframe\">\n",
       "  <thead>\n",
       "    <tr style=\"text-align: right;\">\n",
       "      <th></th>\n",
       "      <th>Timestamp</th>\n",
       "      <th>Open</th>\n",
       "      <th>High</th>\n",
       "      <th>Low</th>\n",
       "      <th>Close</th>\n",
       "      <th>Volume_(BTC)</th>\n",
       "      <th>Volume_(Currency)</th>\n",
       "      <th>Weighted_Price</th>\n",
       "    </tr>\n",
       "  </thead>\n",
       "  <tbody>\n",
       "    <tr>\n",
       "      <th>2016349</th>\n",
       "      <td>1541894160</td>\n",
       "      <td>6347.41</td>\n",
       "      <td>6347.42</td>\n",
       "      <td>6347.41</td>\n",
       "      <td>6347.42</td>\n",
       "      <td>0.484960</td>\n",
       "      <td>3078.241490</td>\n",
       "      <td>6347.417225</td>\n",
       "    </tr>\n",
       "    <tr>\n",
       "      <th>2016350</th>\n",
       "      <td>1541894220</td>\n",
       "      <td>6347.41</td>\n",
       "      <td>6347.42</td>\n",
       "      <td>6347.41</td>\n",
       "      <td>6347.42</td>\n",
       "      <td>0.770757</td>\n",
       "      <td>4892.318043</td>\n",
       "      <td>6347.419294</td>\n",
       "    </tr>\n",
       "    <tr>\n",
       "      <th>2016351</th>\n",
       "      <td>1541894280</td>\n",
       "      <td>6347.41</td>\n",
       "      <td>6347.42</td>\n",
       "      <td>6347.41</td>\n",
       "      <td>6347.42</td>\n",
       "      <td>1.213145</td>\n",
       "      <td>7700.341614</td>\n",
       "      <td>6347.418653</td>\n",
       "    </tr>\n",
       "    <tr>\n",
       "      <th>2016352</th>\n",
       "      <td>1541894340</td>\n",
       "      <td>6347.41</td>\n",
       "      <td>6347.42</td>\n",
       "      <td>6347.41</td>\n",
       "      <td>6347.42</td>\n",
       "      <td>1.714091</td>\n",
       "      <td>10880.053958</td>\n",
       "      <td>6347.418881</td>\n",
       "    </tr>\n",
       "    <tr>\n",
       "      <th>2016353</th>\n",
       "      <td>1541894400</td>\n",
       "      <td>6347.42</td>\n",
       "      <td>6347.42</td>\n",
       "      <td>6347.41</td>\n",
       "      <td>6347.42</td>\n",
       "      <td>0.489324</td>\n",
       "      <td>3105.944897</td>\n",
       "      <td>6347.417439</td>\n",
       "    </tr>\n",
       "  </tbody>\n",
       "</table>\n",
       "</div>"
      ],
      "text/plain": [
       "          Timestamp     Open     High      Low    Close  Volume_(BTC)  \\\n",
       "2016349  1541894160  6347.41  6347.42  6347.41  6347.42      0.484960   \n",
       "2016350  1541894220  6347.41  6347.42  6347.41  6347.42      0.770757   \n",
       "2016351  1541894280  6347.41  6347.42  6347.41  6347.42      1.213145   \n",
       "2016352  1541894340  6347.41  6347.42  6347.41  6347.42      1.714091   \n",
       "2016353  1541894400  6347.42  6347.42  6347.41  6347.42      0.489324   \n",
       "\n",
       "         Volume_(Currency)  Weighted_Price  \n",
       "2016349        3078.241490     6347.417225  \n",
       "2016350        4892.318043     6347.419294  \n",
       "2016351        7700.341614     6347.418653  \n",
       "2016352       10880.053958     6347.418881  \n",
       "2016353        3105.944897     6347.417439  "
      ]
     },
     "execution_count": 4,
     "metadata": {},
     "output_type": "execute_result"
    }
   ],
   "source": [
    "df.tail()"
   ]
  },
  {
   "cell_type": "code",
   "execution_count": 5,
   "metadata": {
    "collapsed": true
   },
   "outputs": [],
   "source": [
    "df.Timestamp = pd.to_datetime(df.Timestamp, unit='s')"
   ]
  },
  {
   "cell_type": "code",
   "execution_count": 6,
   "metadata": {},
   "outputs": [
    {
     "data": {
      "text/html": [
       "<div>\n",
       "<style>\n",
       "    .dataframe thead tr:only-child th {\n",
       "        text-align: right;\n",
       "    }\n",
       "\n",
       "    .dataframe thead th {\n",
       "        text-align: left;\n",
       "    }\n",
       "\n",
       "    .dataframe tbody tr th {\n",
       "        vertical-align: top;\n",
       "    }\n",
       "</style>\n",
       "<table border=\"1\" class=\"dataframe\">\n",
       "  <thead>\n",
       "    <tr style=\"text-align: right;\">\n",
       "      <th></th>\n",
       "      <th>Timestamp</th>\n",
       "      <th>Open</th>\n",
       "      <th>High</th>\n",
       "      <th>Low</th>\n",
       "      <th>Close</th>\n",
       "      <th>Volume_(BTC)</th>\n",
       "      <th>Volume_(Currency)</th>\n",
       "      <th>Weighted_Price</th>\n",
       "    </tr>\n",
       "  </thead>\n",
       "  <tbody>\n",
       "    <tr>\n",
       "      <th>2016349</th>\n",
       "      <td>2018-11-10 23:56:00</td>\n",
       "      <td>6347.41</td>\n",
       "      <td>6347.42</td>\n",
       "      <td>6347.41</td>\n",
       "      <td>6347.42</td>\n",
       "      <td>0.484960</td>\n",
       "      <td>3078.241490</td>\n",
       "      <td>6347.417225</td>\n",
       "    </tr>\n",
       "    <tr>\n",
       "      <th>2016350</th>\n",
       "      <td>2018-11-10 23:57:00</td>\n",
       "      <td>6347.41</td>\n",
       "      <td>6347.42</td>\n",
       "      <td>6347.41</td>\n",
       "      <td>6347.42</td>\n",
       "      <td>0.770757</td>\n",
       "      <td>4892.318043</td>\n",
       "      <td>6347.419294</td>\n",
       "    </tr>\n",
       "    <tr>\n",
       "      <th>2016351</th>\n",
       "      <td>2018-11-10 23:58:00</td>\n",
       "      <td>6347.41</td>\n",
       "      <td>6347.42</td>\n",
       "      <td>6347.41</td>\n",
       "      <td>6347.42</td>\n",
       "      <td>1.213145</td>\n",
       "      <td>7700.341614</td>\n",
       "      <td>6347.418653</td>\n",
       "    </tr>\n",
       "    <tr>\n",
       "      <th>2016352</th>\n",
       "      <td>2018-11-10 23:59:00</td>\n",
       "      <td>6347.41</td>\n",
       "      <td>6347.42</td>\n",
       "      <td>6347.41</td>\n",
       "      <td>6347.42</td>\n",
       "      <td>1.714091</td>\n",
       "      <td>10880.053958</td>\n",
       "      <td>6347.418881</td>\n",
       "    </tr>\n",
       "    <tr>\n",
       "      <th>2016353</th>\n",
       "      <td>2018-11-11 00:00:00</td>\n",
       "      <td>6347.42</td>\n",
       "      <td>6347.42</td>\n",
       "      <td>6347.41</td>\n",
       "      <td>6347.42</td>\n",
       "      <td>0.489324</td>\n",
       "      <td>3105.944897</td>\n",
       "      <td>6347.417439</td>\n",
       "    </tr>\n",
       "  </tbody>\n",
       "</table>\n",
       "</div>"
      ],
      "text/plain": [
       "                  Timestamp     Open     High      Low    Close  Volume_(BTC)  \\\n",
       "2016349 2018-11-10 23:56:00  6347.41  6347.42  6347.41  6347.42      0.484960   \n",
       "2016350 2018-11-10 23:57:00  6347.41  6347.42  6347.41  6347.42      0.770757   \n",
       "2016351 2018-11-10 23:58:00  6347.41  6347.42  6347.41  6347.42      1.213145   \n",
       "2016352 2018-11-10 23:59:00  6347.41  6347.42  6347.41  6347.42      1.714091   \n",
       "2016353 2018-11-11 00:00:00  6347.42  6347.42  6347.41  6347.42      0.489324   \n",
       "\n",
       "         Volume_(Currency)  Weighted_Price  \n",
       "2016349        3078.241490     6347.417225  \n",
       "2016350        4892.318043     6347.419294  \n",
       "2016351        7700.341614     6347.418653  \n",
       "2016352       10880.053958     6347.418881  \n",
       "2016353        3105.944897     6347.417439  "
      ]
     },
     "execution_count": 6,
     "metadata": {},
     "output_type": "execute_result"
    }
   ],
   "source": [
    "df.tail()"
   ]
  },
  {
   "cell_type": "code",
   "execution_count": 7,
   "metadata": {
    "collapsed": true
   },
   "outputs": [],
   "source": [
    "df.set_index('Timestamp', inplace=True)"
   ]
  },
  {
   "cell_type": "code",
   "execution_count": 9,
   "metadata": {
    "collapsed": true
   },
   "outputs": [],
   "source": [
    "df = df.resample('D').mean()"
   ]
  },
  {
   "cell_type": "code",
   "execution_count": 10,
   "metadata": {
    "collapsed": true
   },
   "outputs": [],
   "source": [
    "df_month = df.resample('M').mean()"
   ]
  },
  {
   "cell_type": "code",
   "execution_count": 12,
   "metadata": {},
   "outputs": [
    {
     "data": {
      "text/plain": [
       "<matplotlib.axes._subplots.AxesSubplot at 0x29909f2eeb8>"
      ]
     },
     "execution_count": 12,
     "metadata": {},
     "output_type": "execute_result"
    },
    {
     "data": {
      "image/png": "[encoded data removed]",
      "text/plain": [
       "<matplotlib.figure.Figure at 0x29909f3c828>"
      ]
     },
     "metadata": {},
     "output_type": "display_data"
    }
   ],
   "source": [
    "df_month['Weighted_Price'].plot()"
   ]
  },
  {
   "cell_type": "code",
   "execution_count": null,
   "metadata": {
    "collapsed": true
   },
   "outputs": [],
   "source": []
  }
 ],
 "metadata": {
  "kernelspec": {
   "display_name": "Python 3",
   "language": "python",
   "name": "python3"
  },
  "language_info": {
   "codemirror_mode": {
    "name": "ipython",
    "version": 3
   },
   "file_extension": ".py",
   "mimetype": "text/x-python",
   "name": "python",
   "nbconvert_exporter": "python",
   "pygments_lexer": "ipython3",
   "version": "3.6.3"
  }
 },
 "nbformat": 4,
 "nbformat_minor": 2
}
